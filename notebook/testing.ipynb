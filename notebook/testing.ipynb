{
 "cells": [
  {
   "cell_type": "code",
   "execution_count": 3,
   "id": "9c2ebdad",
   "metadata": {},
   "outputs": [
    {
     "name": "stdout",
     "output_type": "stream",
     "text": [
      "Testing file for generative AI project\n"
     ]
    }
   ],
   "source": [
    "print(\"Testing file for generative AI project\")"
   ]
  },
  {
   "cell_type": "markdown",
   "id": "301cc354",
   "metadata": {},
   "source": [
    "### Testing Jupyter Notebook - All the Agentic experimentations will be done here.."
   ]
  },
  {
   "cell_type": "code",
   "execution_count": 16,
   "id": "aad0d836",
   "metadata": {},
   "outputs": [],
   "source": [
    "def get_requirements(file_path:str)->list[str]:\n",
    "    with open(file_path, 'r') as file:\n",
    "        requirements = file.readlines()\n",
    "        requirements = [req.split('==')[0] if \"==\" in req else req.replace('\\n', '') for req in requirements]\n",
    "    return requirements"
   ]
  },
  {
   "cell_type": "code",
   "execution_count": 29,
   "id": "e1e65f40",
   "metadata": {},
   "outputs": [
    {
     "name": "stdout",
     "output_type": "stream",
     "text": [
      "['langchain== 0.3.27\\n', 'langchain-core\\n', 'langchain-openai\\n', 'pydantic== 2.11.9\\n', 'fastapi\\n', 'langchain-community\\n', 'langgraph \\n', 'streamlit\\n', 'python-dotenv\\n', 'ipykernel\\n', 'beautifulsoup4\\n', 'uvicorn\\n', 'lxml\\n', 'html5lib\\n', 'requests\\n', 'jinja2\\n', 'langchain-astradb\\n', 'langchain-google-genai\\n', 'langchain-groq\\n', 'python-multipart\\n', 'selenium\\n', 'undetected-chromedriver\\n', 'structlog']\n"
     ]
    }
   ],
   "source": [
    "file_path = \"C:\\\\Users\\\\302sy\\\\Desktop\\\\Generative AI\\\\ecomm-prod-assitant\\\\requirements.txt\"\n",
    "\n",
    "requirements = []\n",
    "with open(file_path, 'r') as file:\n",
    "    print(file.readlines())\n",
    "    # requirements = file.readlines()\n",
    "    # requirements= [req.split('==')[0] for req in requirements if \"==\" in req else req.replace('\\n', '')]\n"
   ]
  },
  {
   "cell_type": "code",
   "execution_count": 6,
   "id": "0cb8a419",
   "metadata": {},
   "outputs": [],
   "source": [
    "requirements = ['langchain== 0.3.27\\n', 'langchain-core\\n', 'langchain-openai\\n', 'pydantic== 2.11.9\\n', 'fastapi\\n', 'uvicorn\\n', 'python-multipart\\n', 'aiofiles\\n', 'jinja2\\n', 'requests\\n', 'beautifulsoup4\\n', 'lxml\\n', 'pandas\\n', 'numpy\\n', 'scikit-learn\\n', 'pytest\\n', 'pytest-asyncio\\n', 'httpx\\n'\n",
    "                ]"
   ]
  },
  {
   "cell_type": "code",
   "execution_count": 17,
   "id": "fc941e0a",
   "metadata": {},
   "outputs": [
    {
     "data": {
      "text/plain": [
       "['langchain',\n",
       " 'langchain-core',\n",
       " 'langchain-openai',\n",
       " 'pydantic',\n",
       " 'fastapi',\n",
       " 'langchain-community',\n",
       " 'langgraph ',\n",
       " 'streamlit',\n",
       " 'python-dotenv',\n",
       " 'ipykernel',\n",
       " 'beautifulsoup4',\n",
       " 'uvicorn',\n",
       " 'lxml',\n",
       " 'html5lib',\n",
       " 'requests',\n",
       " 'jinja2',\n",
       " 'langchain-astradb',\n",
       " 'langchain-google-genai',\n",
       " 'langchain-groq',\n",
       " 'python-multipart',\n",
       " 'selenium',\n",
       " 'undetected-chromedriver',\n",
       " 'structlog']"
      ]
     },
     "execution_count": 17,
     "metadata": {},
     "output_type": "execute_result"
    }
   ],
   "source": [
    "get_requirements(file_path)"
   ]
  },
  {
   "cell_type": "code",
   "execution_count": 20,
   "id": "7dfa7216",
   "metadata": {},
   "outputs": [
    {
     "data": {
      "text/plain": [
       "'c:\\\\Users\\\\302sy\\\\Desktop\\\\Generative AI\\\\ecomm-prod-assitant\\\\notebook'"
      ]
     },
     "execution_count": 20,
     "metadata": {},
     "output_type": "execute_result"
    }
   ],
   "source": [
    "import os\n",
    "os.getcwd()"
   ]
  },
  {
   "cell_type": "code",
   "execution_count": 21,
   "id": "b055a4bc",
   "metadata": {},
   "outputs": [
    {
     "data": {
      "text/plain": [
       "'c:\\\\Users\\\\302sy\\\\Desktop\\\\Generative AI\\\\ecomm-prod-assitant\\\\notebook\\\\requirements.txt'"
      ]
     },
     "execution_count": 21,
     "metadata": {},
     "output_type": "execute_result"
    }
   ],
   "source": [
    "os.path.join(os.getcwd(), \"requirements.txt\")"
   ]
  },
  {
   "cell_type": "code",
   "execution_count": 23,
   "id": "76f63508",
   "metadata": {},
   "outputs": [
    {
     "data": {
      "text/plain": [
       "WindowsPath('c:/Users/302sy/Desktop/Generative AI/ecomm-prod-assitant')"
      ]
     },
     "execution_count": 23,
     "metadata": {},
     "output_type": "execute_result"
    }
   ],
   "source": [
    "from pathlib import Path\n",
    "Path.cwd().parent"
   ]
  },
  {
   "cell_type": "code",
   "execution_count": 24,
   "id": "1448ed9a",
   "metadata": {},
   "outputs": [
    {
     "data": {
      "text/plain": [
       "'c:\\\\Users\\\\302sy\\\\Desktop\\\\Generative AI\\\\ecomm-prod-assitant'"
      ]
     },
     "execution_count": 24,
     "metadata": {},
     "output_type": "execute_result"
    }
   ],
   "source": [
    "os.path.dirname(os.getcwd())"
   ]
  },
  {
   "cell_type": "code",
   "execution_count": 27,
   "id": "275a0510",
   "metadata": {},
   "outputs": [
    {
     "data": {
      "text/plain": [
       "'c:\\\\Users\\\\302sy\\\\Desktop\\\\Generative AI\\\\ecomm-prod-assitant'"
      ]
     },
     "execution_count": 27,
     "metadata": {},
     "output_type": "execute_result"
    }
   ],
   "source": [
    "Baseroot= os.path.dirname(os.getcwd())\n",
    "Baseroot"
   ]
  },
  {
   "cell_type": "code",
   "execution_count": 28,
   "id": "3112f28e",
   "metadata": {},
   "outputs": [
    {
     "data": {
      "text/plain": [
       "WindowsPath('c:/Users/302sy/Desktop/Generative AI/ecomm-prod-assitant/requirements.txt')"
      ]
     },
     "execution_count": 28,
     "metadata": {},
     "output_type": "execute_result"
    }
   ],
   "source": [
    "Path.cwd().parent / \"requirements.txt\""
   ]
  },
  {
   "cell_type": "code",
   "execution_count": null,
   "id": "eaae90e7",
   "metadata": {},
   "outputs": [],
   "source": []
  }
 ],
 "metadata": {
  "kernelspec": {
   "display_name": "ecomm_mcp",
   "language": "python",
   "name": "python3"
  },
  "language_info": {
   "codemirror_mode": {
    "name": "ipython",
    "version": 3
   },
   "file_extension": ".py",
   "mimetype": "text/x-python",
   "name": "python",
   "nbconvert_exporter": "python",
   "pygments_lexer": "ipython3",
   "version": "3.12.11"
  }
 },
 "nbformat": 4,
 "nbformat_minor": 5
}
